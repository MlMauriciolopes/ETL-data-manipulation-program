{
 "cells": [
  {
   "cell_type": "code",
   "execution_count": 4,
   "id": "486280fc",
   "metadata": {},
   "outputs": [],
   "source": [
    "# Importando as bibliotecas\n",
    "import pandas as pd"
   ]
  },
  {
   "cell_type": "code",
   "execution_count": 5,
   "id": "c7de7f5c",
   "metadata": {},
   "outputs": [],
   "source": [
    "# Pegar o tamanho/posição das colunas \n",
    "# Nomes dados a essas colunas\n",
    "# Criar listas com nome de colunas e lista com os nomes dos campos\n",
    "\n",
    "#3.2 Registro - 01- Cotacções históricas por papel-mercado =\n",
    "\n",
    "def read_files(path, name_file, year_date, type_file ):\n",
    "    \n",
    "    _file = f'{path}{name_file}{year_date}.{type_file}'\n",
    "    \n",
    "    colspecs = [(2,10),  # Data do pregão (3,10)\n",
    "                (10,12), # CODBDI - código BDI (11,12)\n",
    "                (12,24), # CODNEG - Código de negociação de papel (13,24)\n",
    "                (27,39), # NONAMES - Nome resumido da empresa emissora do papel (28,39)\n",
    "                (56,69), # PREABE - Preço de abertura do papel - mercado no pregão\n",
    "                (69,82), # PREMAX - Preço máximo do papel - mercado de pregão\n",
    "                (82,95), # PREMIN - Preço mínimo do papel - mercado de pregão\n",
    "                (108,121), # PREULT - Preço do último negócio do papel  - mercado no pregão\n",
    "                (152,170), # QUATOT - Quantidade total de títulos negociados neste papel - mercado\n",
    "                (170,188) #VOLTOT - Volume total de títulos negociados neste papel - mercado\n",
    "    ]\n",
    "\n",
    "    names = ['data_pregao', 'cod_bdi', 'sigla_acao', 'nome_acao', 'preco_abertura','preco_maximo', 'preco_minimo', 'preco_fechamento', 'qtd_negocios','volume_negocios']\n",
    "\n",
    "    #df = pd.read_fwf('C:/Users/mlsil/OneDrive/Área de Trabalho/manipulacao_dados_bovespa/COTAHIST_A2020.txt', colspecs = colspecs, names = names, skiprows = 1)\n",
    "    df = pd.read_fwf(_file, colspecs = colspecs, names = names, skiprows = 1)\n",
    "    \n",
    "    return df\n",
    "\n",
    "#df"
   ]
  },
  {
   "cell_type": "code",
   "execution_count": 6,
   "id": "1a442adc",
   "metadata": {},
   "outputs": [],
   "source": [
    "# Filtrar o lote padrão / filtrar ações\n",
    "def filter_stocks(df):\n",
    "    df = df [df['cod_bdi'] == 2]\n",
    "    df = df.drop(['cod_bdi'], 1)\n",
    "    \n",
    "    return df"
   ]
  },
  {
   "cell_type": "code",
   "execution_count": 7,
   "id": "9d3dfa05",
   "metadata": {},
   "outputs": [],
   "source": [
    "# Ajuste campo de data\n",
    "def parse_date(df):\n",
    "    df['data_pregao'] = pd.to_datetime(df['data_pregao'], format = '%Y%m%d')\n",
    "    return df"
   ]
  },
  {
   "cell_type": "code",
   "execution_count": 8,
   "id": "a7b905fb",
   "metadata": {},
   "outputs": [],
   "source": [
    "# Ajuste dos campos numéricos\n",
    "\n",
    "def parse_values(df):\n",
    "    df['preco_abertura'] = (df['preco_abertura'] /100).astype(float)\n",
    "    df['preco_maximo'] = (df['preco_maximo'] /100).astype(float)\n",
    "    df['preco_minimo'] = (df['preco_minimo'] /100).astype(float)\n",
    "    df['preco_fechamento'] = (df['preco_fechamento'] /100).astype(float)\n",
    "\n",
    "    return df"
   ]
  },
  {
   "cell_type": "code",
   "execution_count": 9,
   "id": "d58dbd27",
   "metadata": {},
   "outputs": [],
   "source": [
    "# Juntando os arquivos\n",
    "def concat_files(path, name_file, name_date, type_file, final_file):\n",
    "    for i, y in enumerate(year_date):\n",
    "        df = read_files(path, name_file, y, type_file)\n",
    "        df = filter_stocks(df)\n",
    "        df = parse_date(df)\n",
    "        df = parse_values(df)\n",
    "        \n",
    "        if i == 0:\n",
    "            df_final = df\n",
    "        else:\n",
    "            df_final = pd.concat([df_final, df])\n",
    "    \n",
    "    df_final.to_csv(f'{path}//{final_file}', index = False)"
   ]
  },
  {
   "cell_type": "code",
   "execution_count": 10,
   "id": "3bd4a399",
   "metadata": {},
   "outputs": [
    {
     "name": "stderr",
     "output_type": "stream",
     "text": [
      "<ipython-input-6-87a582845ec8>:4: FutureWarning: In a future version of pandas all arguments of DataFrame.drop except for the argument 'labels' will be keyword-only\n",
      "  df = df.drop(['cod_bdi'], 1)\n"
     ]
    }
   ],
   "source": [
    "# Executando programa  de etl\n",
    "\n",
    "year_date = ['2018', '2019', '2020']\n",
    "\n",
    "path = f'C:/Users/mlsil/OneDrive/Área de Trabalho/manipulacao_dados_bovespa/'\n",
    "\n",
    "name_file = 'COTAHIST_A'\n",
    "\n",
    "type_file = 'txt'\n",
    "\n",
    "final_file = 'all_bovespa.csv'\n",
    "\n",
    "concat_files(path, name_file, year_date, type_file, final_file)"
   ]
  },
  {
   "cell_type": "code",
   "execution_count": null,
   "id": "6fe14cb8",
   "metadata": {},
   "outputs": [],
   "source": []
  }
 ],
 "metadata": {
  "kernelspec": {
   "display_name": "Python 3",
   "language": "python",
   "name": "python3"
  },
  "language_info": {
   "codemirror_mode": {
    "name": "ipython",
    "version": 3
   },
   "file_extension": ".py",
   "mimetype": "text/x-python",
   "name": "python",
   "nbconvert_exporter": "python",
   "pygments_lexer": "ipython3",
   "version": "3.8.8"
  }
 },
 "nbformat": 4,
 "nbformat_minor": 5
}
